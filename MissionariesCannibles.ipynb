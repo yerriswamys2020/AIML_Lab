{
 "cells": [
  {
   "cell_type": "markdown",
   "id": "e7d7ea27",
   "metadata": {},
   "source": [
    " ## BFS algorithm to solve the Missionaries and Cannibals problem\n",
    "\n",
    "Problem Statement <br>\n",
    "You have 3 missionaries and 3 cannibals on one side of a river.<br>\n",
    "There is one boat that can carry at most two people at a time.<br>\n",
    "The goal is to move everyone to the other side of the river.<br>\n",
    "\n",
    "Constraints<br>\n",
    "The boat cannot cross the river by itself (it needs at least one person to row).<br>\n",
    "At any point on either side of the river, if cannibals outnumber missionaries, the missionaries will be eaten.<br>\n",
    "You can only move 1 or 2 people at a time in the boat.<br>\n",
    "\n",
    "Valid Moves<br>\n",
    "Possible combinations of people in the boat:<br>\n",
    "\n",
    "1 missionary <br>\n",
    "2 missionaries <br>\n",
    "1 cannibal <br>\n",
    "2 cannibals <br>\n",
    "1 missionary and 1 cannibal"
   ]
  },
  {
   "cell_type": "code",
   "execution_count": 1,
   "id": "cb958de7",
   "metadata": {},
   "outputs": [],
   "source": [
    "from collections import deque"
   ]
  },
  {
   "cell_type": "code",
   "execution_count": 2,
   "id": "8bb9c23f",
   "metadata": {},
   "outputs": [],
   "source": [
    "# Function to check if a state is valid\n",
    "# A state is valid if the number of missionaries is not less than the number of cannibals on both sides of the river.\n",
    "\n",
    "\n",
    "def is_valid(state):\n",
    "    m, c, b = state\n",
    "    return (m == 0 or m >= c) and (3 - m == 0 or 3 - m >= 3 - c)"
   ]
  },
  {
   "cell_type": "code",
   "execution_count": null,
   "id": "0a2fcb6c",
   "metadata": {},
   "outputs": [],
   "source": [
    "# Genetarte all possible next states from the current state by moving 1 or 2 people (either missionaries or cannibals) across the river.\n",
    "def get_next_states(state):\n",
    "    m, c, b = state\n",
    "    next_states = []\n",
    "    if b == 1:  # Boat on the starting side\n",
    "        if m > 0:\n",
    "            next_states.append((m - 1, c, 0))  # Move 1 missionary\n",
    "        if m > 1:\n",
    "            next_states.append((m - 2, c, 0))  # Move 2 missionaries\n",
    "        if c > 0:\n",
    "            next_states.append((m, c - 1, 0))  # Move 1 cannibal\n",
    "        if c > 1:\n",
    "            next_states.append((m, c - 2, 0))  # Move 2 cannibals\n",
    "        if m > 0 and c > 0:\n",
    "            next_states.append((m - 1, c - 1, 0))  # Move 1 missionary and 1 cannibal\n",
    "    else:  # Boat on the other side\n",
    "        if m < 3:\n",
    "            next_states.append((m + 1, c, 1))  # Move 1 missionary\n",
    "        if m < 2:\n",
    "            next_states.append((m + 2, c, 1))  # Move 2 missionaries\n",
    "        if c < 3:\n",
    "            next_states.append((m, c + 1, 1))  # Move 1 cannibal\n",
    "        if c < 2:\n",
    "            next_states.append((m, c + 2, 1))  # Move 2 cannibals\n",
    "        if m < 3 and c < 3:\n",
    "            next_states.append((m + 1, c + 1, 1))  # Move 1 missionary and 1 cannibal\n",
    "    return [state for state in next_states if is_valid(state)]"
   ]
  },
  {
   "cell_type": "code",
   "execution_count": 5,
   "id": "9b98cb31",
   "metadata": {},
   "outputs": [],
   "source": [
    "# BFS algorithm to solve the problem\n",
    "def bfs(initial_state, goal_state):\n",
    "    queue = deque([(initial_state, [])])\n",
    "    visited = set()\n",
    "    while queue:\n",
    "        state, path = queue.popleft()\n",
    "        if state == goal_state:\n",
    "            return path + [state]\n",
    "        if state not in visited:\n",
    "            visited.add(state)\n",
    "            for next_state in get_next_states(state):\n",
    "                queue.append((next_state, path + [state]))\n",
    "    return None"
   ]
  },
  {
   "cell_type": "code",
   "execution_count": 6,
   "id": "b68b5f14",
   "metadata": {},
   "outputs": [
    {
     "name": "stdout",
     "output_type": "stream",
     "text": [
      "(3, 3, 1)\n",
      "(3, 1, 0)\n",
      "(3, 2, 1)\n",
      "(3, 0, 0)\n",
      "(3, 1, 1)\n",
      "(1, 1, 0)\n",
      "(2, 2, 1)\n",
      "(0, 2, 0)\n",
      "(0, 3, 1)\n",
      "(0, 1, 0)\n",
      "(1, 1, 1)\n",
      "(0, 0, 0)\n"
     ]
    }
   ],
   "source": [
    "# Define the initial state and goal state\n",
    "# The initial state is (3, 3, 1) representing 3 missionaries, 3 cannibals, and the boat on the starting side. \n",
    "# The goal state is (0, 0, 0) representing all missionaries and cannibals on the other side.\n",
    "\n",
    "initial_state = (3, 3, 1)\n",
    "goal_state = (0, 0, 0)\n",
    "\n",
    "# Find the solution\n",
    "solution = bfs(initial_state, goal_state)\n",
    "if solution:\n",
    "    for step in solution:\n",
    "        print(step)\n",
    "else:\n",
    "    print(\"No solution found\")"
   ]
  }
 ],
 "metadata": {
  "kernelspec": {
   "display_name": "Python 3",
   "language": "python",
   "name": "python3"
  },
  "language_info": {
   "codemirror_mode": {
    "name": "ipython",
    "version": 3
   },
   "file_extension": ".py",
   "mimetype": "text/x-python",
   "name": "python",
   "nbconvert_exporter": "python",
   "pygments_lexer": "ipython3",
   "version": "3.13.2"
  }
 },
 "nbformat": 4,
 "nbformat_minor": 5
}
